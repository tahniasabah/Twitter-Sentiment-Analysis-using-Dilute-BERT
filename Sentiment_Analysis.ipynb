{
 "cells": [
  {
   "cell_type": "code",
   "execution_count": 1,
   "id": "08a8aa31",
   "metadata": {
    "colab": {
     "base_uri": "https://localhost:8080/"
    },
    "id": "08a8aa31",
    "outputId": "144a2238-08c4-465a-ec32-3d7ecf04548f"
   },
   "outputs": [
    {
     "name": "stdout",
     "output_type": "stream",
     "text": [
      "Requirement already satisfied: tweepy in /usr/local/lib/python3.7/dist-packages (3.10.0)\n",
      "Requirement already satisfied: requests[socks]>=2.11.1 in /usr/local/lib/python3.7/dist-packages (from tweepy) (2.23.0)\n",
      "Requirement already satisfied: six>=1.10.0 in /usr/local/lib/python3.7/dist-packages (from tweepy) (1.15.0)\n",
      "Requirement already satisfied: requests-oauthlib>=0.7.0 in /usr/local/lib/python3.7/dist-packages (from tweepy) (1.3.0)\n",
      "Requirement already satisfied: oauthlib>=3.0.0 in /usr/local/lib/python3.7/dist-packages (from requests-oauthlib>=0.7.0->tweepy) (3.1.1)\n",
      "Requirement already satisfied: urllib3!=1.25.0,!=1.25.1,<1.26,>=1.21.1 in /usr/local/lib/python3.7/dist-packages (from requests[socks]>=2.11.1->tweepy) (1.24.3)\n",
      "Requirement already satisfied: certifi>=2017.4.17 in /usr/local/lib/python3.7/dist-packages (from requests[socks]>=2.11.1->tweepy) (2021.10.8)\n",
      "Requirement already satisfied: idna<3,>=2.5 in /usr/local/lib/python3.7/dist-packages (from requests[socks]>=2.11.1->tweepy) (2.10)\n",
      "Requirement already satisfied: chardet<4,>=3.0.2 in /usr/local/lib/python3.7/dist-packages (from requests[socks]>=2.11.1->tweepy) (3.0.4)\n",
      "Requirement already satisfied: PySocks!=1.5.7,>=1.5.6 in /usr/local/lib/python3.7/dist-packages (from requests[socks]>=2.11.1->tweepy) (1.7.1)\n",
      "Requirement already satisfied: openpyxl in /usr/local/lib/python3.7/dist-packages (2.5.9)\n",
      "Requirement already satisfied: et-xmlfile in /usr/local/lib/python3.7/dist-packages (from openpyxl) (1.1.0)\n",
      "Requirement already satisfied: jdcal in /usr/local/lib/python3.7/dist-packages (from openpyxl) (1.4.1)\n",
      "Requirement already satisfied: transformers in /usr/local/lib/python3.7/dist-packages (4.12.5)\n",
      "Requirement already satisfied: sacremoses in /usr/local/lib/python3.7/dist-packages (from transformers) (0.0.46)\n",
      "Requirement already satisfied: requests in /usr/local/lib/python3.7/dist-packages (from transformers) (2.23.0)\n",
      "Requirement already satisfied: numpy>=1.17 in /usr/local/lib/python3.7/dist-packages (from transformers) (1.19.5)\n",
      "Requirement already satisfied: huggingface-hub<1.0,>=0.1.0 in /usr/local/lib/python3.7/dist-packages (from transformers) (0.1.2)\n",
      "Requirement already satisfied: tokenizers<0.11,>=0.10.1 in /usr/local/lib/python3.7/dist-packages (from transformers) (0.10.3)\n",
      "Requirement already satisfied: pyyaml>=5.1 in /usr/local/lib/python3.7/dist-packages (from transformers) (6.0)\n",
      "Requirement already satisfied: filelock in /usr/local/lib/python3.7/dist-packages (from transformers) (3.4.0)\n",
      "Requirement already satisfied: packaging>=20.0 in /usr/local/lib/python3.7/dist-packages (from transformers) (21.3)\n",
      "Requirement already satisfied: regex!=2019.12.17 in /usr/local/lib/python3.7/dist-packages (from transformers) (2019.12.20)\n",
      "Requirement already satisfied: tqdm>=4.27 in /usr/local/lib/python3.7/dist-packages (from transformers) (4.62.3)\n",
      "Requirement already satisfied: importlib-metadata in /usr/local/lib/python3.7/dist-packages (from transformers) (4.8.2)\n",
      "Requirement already satisfied: typing-extensions>=3.7.4.3 in /usr/local/lib/python3.7/dist-packages (from huggingface-hub<1.0,>=0.1.0->transformers) (3.10.0.2)\n",
      "Requirement already satisfied: pyparsing!=3.0.5,>=2.0.2 in /usr/local/lib/python3.7/dist-packages (from packaging>=20.0->transformers) (3.0.6)\n",
      "Requirement already satisfied: zipp>=0.5 in /usr/local/lib/python3.7/dist-packages (from importlib-metadata->transformers) (3.6.0)\n",
      "Requirement already satisfied: idna<3,>=2.5 in /usr/local/lib/python3.7/dist-packages (from requests->transformers) (2.10)\n",
      "Requirement already satisfied: urllib3!=1.25.0,!=1.25.1,<1.26,>=1.21.1 in /usr/local/lib/python3.7/dist-packages (from requests->transformers) (1.24.3)\n",
      "Requirement already satisfied: chardet<4,>=3.0.2 in /usr/local/lib/python3.7/dist-packages (from requests->transformers) (3.0.4)\n",
      "Requirement already satisfied: certifi>=2017.4.17 in /usr/local/lib/python3.7/dist-packages (from requests->transformers) (2021.10.8)\n",
      "Requirement already satisfied: click in /usr/local/lib/python3.7/dist-packages (from sacremoses->transformers) (7.1.2)\n",
      "Requirement already satisfied: six in /usr/local/lib/python3.7/dist-packages (from sacremoses->transformers) (1.15.0)\n",
      "Requirement already satisfied: joblib in /usr/local/lib/python3.7/dist-packages (from sacremoses->transformers) (1.1.0)\n",
      "Requirement already satisfied: textblob in /usr/local/lib/python3.7/dist-packages (0.15.3)\n",
      "Requirement already satisfied: nltk>=3.1 in /usr/local/lib/python3.7/dist-packages (from textblob) (3.2.5)\n",
      "Requirement already satisfied: six in /usr/local/lib/python3.7/dist-packages (from nltk>=3.1->textblob) (1.15.0)\n"
     ]
    }
   ],
   "source": [
    "!pip install tweepy\n",
    "!pip install openpyxl\n",
    "!pip install transformers\n",
    "!pip install textblob\n",
    "import numpy as np\n",
    "import pandas as pd\n",
    "import tweepy\n",
    "import json\n",
    "from textblob import TextBlob\n",
    "import re\n",
    "from tweepy import OAuthHandler\n",
    "from transformers import TFDistilBertForSequenceClassification, DistilBertTokenizer\n",
    "import tensorflow as tf\n",
    "from tensorflow.keras.optimizers import Adam\n",
    "from sklearn.preprocessing import LabelEncoder\n",
    "from sklearn.model_selection import train_test_split\n",
    "import numpy as np\n",
    "import matplotlib.pyplot as plt\n",
    "\n"
   ]
  },
  {
   "cell_type": "code",
   "execution_count": 2,
   "id": "7d568b3f",
   "metadata": {
    "id": "7d568b3f"
   },
   "outputs": [],
   "source": [
    "#consumer_key = '<---Consumer Key HERE---->'\n",
    "#consumer_secret = '<---Consumer Secret Key HERE---->'\n",
    "#access_token = '<---Access Token HERE---->'\n",
    "#access_token_secret = '<---Access Token Seceret Key HERE---->'"
   ]
  },
  {
   "cell_type": "code",
   "execution_count": 3,
   "id": "3c0eeefa",
   "metadata": {
    "id": "3c0eeefa"
   },
   "outputs": [],
   "source": [
    "auth = tweepy.OAuthHandler(consumer_key,consumer_secret)\n",
    "auth.set_access_token(access_token,access_token_secret)\n",
    "api = tweepy.API(auth)"
   ]
  },
  {
   "cell_type": "code",
   "execution_count": 4,
   "id": "d805a9d3",
   "metadata": {
    "colab": {
     "base_uri": "https://localhost:8080/"
    },
    "id": "d805a9d3",
    "outputId": "9b184fa3-a931-49c4-8861-ae724978bbf2"
   },
   "outputs": [
    {
     "name": "stdout",
     "output_type": "stream",
     "text": [
      "Empty DataFrame\n",
      "Columns: [Tweets, User, User_statuses_count, user_followers, User_location, User_verified, like_count, retweet_count, tweet_date]\n",
      "Index: []\n"
     ]
    }
   ],
   "source": [
    "df = pd.DataFrame(columns = ['Tweets' , 'User' , 'User_statuses_count' , \n",
    "                            'user_followers' , 'User_location' , 'User_verified' ,\n",
    "                            'like_count' , 'retweet_count' , 'tweet_date'] )\n",
    "print(df)"
   ]
  },
  {
   "cell_type": "code",
   "execution_count": 5,
   "id": "6942939c",
   "metadata": {
    "id": "6942939c"
   },
   "outputs": [],
   "source": [
    "def stream(data,file_name):\n",
    "    i=0\n",
    "    for tweet in tweepy.Cursor(api.search,q=data,count=100,lan='en').items():\n",
    "        print(i, end='\\r')\n",
    "        df.loc[i, 'Tweets'] = tweet.text\n",
    "        df.loc[i, 'User'] = tweet.user.name\n",
    "        df.loc[i, 'User_statuses_count'] = tweet.user.statuses_count\n",
    "        df.loc[i, 'user_followers'] = tweet.user.followers_count\n",
    "        df.loc[i, 'User_location'] = tweet.user.location\n",
    "        df.loc[i, 'User_verified'] = tweet.user.verified\n",
    "        df.loc[i, 'like_count'] = tweet.favorite_count\n",
    "        df.loc[i, 'retweet_count'] = tweet.retweet_count\n",
    "        df.loc[i, 'tweet_date'] = tweet.created_at\n",
    "        df.to_csv(file_name)\n",
    "        i = i+1\n",
    "        if i == 1000:\n",
    "            break\n",
    "        else:\n",
    "            pass"
   ]
  },
  {
   "cell_type": "code",
   "execution_count": 6,
   "id": "f2e11ab6",
   "metadata": {
    "colab": {
     "base_uri": "https://localhost:8080/"
    },
    "id": "f2e11ab6",
    "outputId": "99c3d6fe-346a-4a68-b138-36ddbe7830ad"
   },
   "outputs": [
    {
     "name": "stdout",
     "output_type": "stream",
     "text": []
    }
   ],
   "source": [
    "stream(data=[\"Christmas\"] , file_name='my_tweets.csv')"
   ]
  },
  {
   "cell_type": "code",
   "execution_count": 7,
   "id": "d9970820",
   "metadata": {
    "colab": {
     "base_uri": "https://localhost:8080/",
     "height": 293
    },
    "id": "d9970820",
    "outputId": "03511329-b0b0-4c6f-b67e-8fa033a664eb"
   },
   "outputs": [
    {
     "data": {
      "text/html": [
       "<div>\n",
       "<style scoped>\n",
       "    .dataframe tbody tr th:only-of-type {\n",
       "        vertical-align: middle;\n",
       "    }\n",
       "\n",
       "    .dataframe tbody tr th {\n",
       "        vertical-align: top;\n",
       "    }\n",
       "\n",
       "    .dataframe thead th {\n",
       "        text-align: right;\n",
       "    }\n",
       "</style>\n",
       "<table border=\"1\" class=\"dataframe\">\n",
       "  <thead>\n",
       "    <tr style=\"text-align: right;\">\n",
       "      <th></th>\n",
       "      <th>Tweets</th>\n",
       "      <th>User</th>\n",
       "      <th>User_statuses_count</th>\n",
       "      <th>user_followers</th>\n",
       "      <th>User_location</th>\n",
       "      <th>User_verified</th>\n",
       "      <th>like_count</th>\n",
       "      <th>retweet_count</th>\n",
       "      <th>tweet_date</th>\n",
       "    </tr>\n",
       "  </thead>\n",
       "  <tbody>\n",
       "    <tr>\n",
       "      <th>0</th>\n",
       "      <td>Christmas film na gang ngayun d ko pinagsasawa...</td>\n",
       "      <td>CARLOKANTUTERO</td>\n",
       "      <td>324</td>\n",
       "      <td>57216</td>\n",
       "      <td>Rizal, Calabarzon</td>\n",
       "      <td>False</td>\n",
       "      <td>0</td>\n",
       "      <td>0</td>\n",
       "      <td>2021-12-01 02:15:05</td>\n",
       "    </tr>\n",
       "    <tr>\n",
       "      <th>1</th>\n",
       "      <td>RT @JoeBiden: There’s still time to get your f...</td>\n",
       "      <td>Elaine Perliss</td>\n",
       "      <td>2046</td>\n",
       "      <td>94</td>\n",
       "      <td>Sherman Oaks, Tarzana, CA</td>\n",
       "      <td>False</td>\n",
       "      <td>0</td>\n",
       "      <td>2449</td>\n",
       "      <td>2021-12-01 02:15:05</td>\n",
       "    </tr>\n",
       "    <tr>\n",
       "      <th>2</th>\n",
       "      <td>RT @OnnyReview: โอ้โหหห Christmas กลางเมืองที่...</td>\n",
       "      <td>𝒻</td>\n",
       "      <td>51902</td>\n",
       "      <td>89</td>\n",
       "      <td></td>\n",
       "      <td>False</td>\n",
       "      <td>0</td>\n",
       "      <td>23269</td>\n",
       "      <td>2021-12-01 02:15:05</td>\n",
       "    </tr>\n",
       "    <tr>\n",
       "      <th>3</th>\n",
       "      <td>2021 Christmas tree lightings, parades around ...</td>\n",
       "      <td>ABC 36 News</td>\n",
       "      <td>78638</td>\n",
       "      <td>28710</td>\n",
       "      <td>Lexington, KY</td>\n",
       "      <td>True</td>\n",
       "      <td>0</td>\n",
       "      <td>0</td>\n",
       "      <td>2021-12-01 02:15:05</td>\n",
       "    </tr>\n",
       "    <tr>\n",
       "      <th>4</th>\n",
       "      <td>RT @sudsapda: Stray Kids ส่งคลิปทักทาย มาพร้อม...</td>\n",
       "      <td>ℓαzу єƒ 🐈‍⬛</td>\n",
       "      <td>224510</td>\n",
       "      <td>451</td>\n",
       "      <td></td>\n",
       "      <td>False</td>\n",
       "      <td>0</td>\n",
       "      <td>215</td>\n",
       "      <td>2021-12-01 02:15:05</td>\n",
       "    </tr>\n",
       "  </tbody>\n",
       "</table>\n",
       "</div>"
      ],
      "text/plain": [
       "                                              Tweets  ...           tweet_date\n",
       "0  Christmas film na gang ngayun d ko pinagsasawa...  ...  2021-12-01 02:15:05\n",
       "1  RT @JoeBiden: There’s still time to get your f...  ...  2021-12-01 02:15:05\n",
       "2  RT @OnnyReview: โอ้โหหห Christmas กลางเมืองที่...  ...  2021-12-01 02:15:05\n",
       "3  2021 Christmas tree lightings, parades around ...  ...  2021-12-01 02:15:05\n",
       "4  RT @sudsapda: Stray Kids ส่งคลิปทักทาย มาพร้อม...  ...  2021-12-01 02:15:05\n",
       "\n",
       "[5 rows x 9 columns]"
      ]
     },
     "execution_count": 7,
     "metadata": {},
     "output_type": "execute_result"
    }
   ],
   "source": [
    "df.head()"
   ]
  },
  {
   "cell_type": "code",
   "execution_count": 8,
   "id": "fba316fc",
   "metadata": {
    "id": "fba316fc"
   },
   "outputs": [],
   "source": [
    "def clean_tweet(tweet):\n",
    "    return ' '.join(re.sub('(@[A-Za-z0-9]+)|([^0-9A-Za-z \\t])|(\\w+:\\/\\/\\S+)', ' ', tweet).split())"
   ]
  },
  {
   "cell_type": "code",
   "execution_count": 9,
   "id": "e3d03eff",
   "metadata": {
    "id": "e3d03eff"
   },
   "outputs": [],
   "source": [
    "def analyze_sentiment(tweet):\n",
    "    analysis = TextBlob(tweet)\n",
    "    if analysis.sentiment.polarity > 0:\n",
    "        #print(\"P\",analysis.sentiment.polarity)\n",
    "        return 'Positive'\n",
    "    elif analysis.sentiment.polarity == 0:\n",
    "        #print(\"Neutral\",analysis.sentiment.polarity)\n",
    "        return 'Neutral'\n",
    "    else:\n",
    "        #print('Neg',analysis.sentiment.polarity)\n",
    "        return 'Negative'"
   ]
  },
  {
   "cell_type": "code",
   "execution_count": 10,
   "id": "10ed19bf",
   "metadata": {
    "id": "10ed19bf"
   },
   "outputs": [],
   "source": [
    "df['clean_tweet'] = df['Tweets'].apply(lambda x : clean_tweet(x))"
   ]
  },
  {
   "cell_type": "code",
   "execution_count": 11,
   "id": "da98e169",
   "metadata": {
    "colab": {
     "base_uri": "https://localhost:8080/",
     "height": 397
    },
    "id": "da98e169",
    "outputId": "784cbab3-17ed-42a7-be90-c0f5b48f27f7"
   },
   "outputs": [
    {
     "data": {
      "text/html": [
       "<div>\n",
       "<style scoped>\n",
       "    .dataframe tbody tr th:only-of-type {\n",
       "        vertical-align: middle;\n",
       "    }\n",
       "\n",
       "    .dataframe tbody tr th {\n",
       "        vertical-align: top;\n",
       "    }\n",
       "\n",
       "    .dataframe thead th {\n",
       "        text-align: right;\n",
       "    }\n",
       "</style>\n",
       "<table border=\"1\" class=\"dataframe\">\n",
       "  <thead>\n",
       "    <tr style=\"text-align: right;\">\n",
       "      <th></th>\n",
       "      <th>Tweets</th>\n",
       "      <th>User</th>\n",
       "      <th>User_statuses_count</th>\n",
       "      <th>user_followers</th>\n",
       "      <th>User_location</th>\n",
       "      <th>User_verified</th>\n",
       "      <th>like_count</th>\n",
       "      <th>retweet_count</th>\n",
       "      <th>tweet_date</th>\n",
       "      <th>clean_tweet</th>\n",
       "    </tr>\n",
       "  </thead>\n",
       "  <tbody>\n",
       "    <tr>\n",
       "      <th>0</th>\n",
       "      <td>Christmas film na gang ngayun d ko pinagsasawa...</td>\n",
       "      <td>CARLOKANTUTERO</td>\n",
       "      <td>324</td>\n",
       "      <td>57216</td>\n",
       "      <td>Rizal, Calabarzon</td>\n",
       "      <td>False</td>\n",
       "      <td>0</td>\n",
       "      <td>0</td>\n",
       "      <td>2021-12-01 02:15:05</td>\n",
       "      <td>Christmas film na gang ngayun d ko pinagsasawa...</td>\n",
       "    </tr>\n",
       "    <tr>\n",
       "      <th>1</th>\n",
       "      <td>RT @JoeBiden: There’s still time to get your f...</td>\n",
       "      <td>Elaine Perliss</td>\n",
       "      <td>2046</td>\n",
       "      <td>94</td>\n",
       "      <td>Sherman Oaks, Tarzana, CA</td>\n",
       "      <td>False</td>\n",
       "      <td>0</td>\n",
       "      <td>2449</td>\n",
       "      <td>2021-12-01 02:15:05</td>\n",
       "      <td>RT There s still time to get your first shot y...</td>\n",
       "    </tr>\n",
       "    <tr>\n",
       "      <th>2</th>\n",
       "      <td>RT @OnnyReview: โอ้โหหห Christmas กลางเมืองที่...</td>\n",
       "      <td>𝒻</td>\n",
       "      <td>51902</td>\n",
       "      <td>89</td>\n",
       "      <td></td>\n",
       "      <td>False</td>\n",
       "      <td>0</td>\n",
       "      <td>23269</td>\n",
       "      <td>2021-12-01 02:15:05</td>\n",
       "      <td>RT Christmas</td>\n",
       "    </tr>\n",
       "    <tr>\n",
       "      <th>3</th>\n",
       "      <td>2021 Christmas tree lightings, parades around ...</td>\n",
       "      <td>ABC 36 News</td>\n",
       "      <td>78638</td>\n",
       "      <td>28710</td>\n",
       "      <td>Lexington, KY</td>\n",
       "      <td>True</td>\n",
       "      <td>0</td>\n",
       "      <td>0</td>\n",
       "      <td>2021-12-01 02:15:05</td>\n",
       "      <td>2021 Christmas tree lightings parades around C...</td>\n",
       "    </tr>\n",
       "    <tr>\n",
       "      <th>4</th>\n",
       "      <td>RT @sudsapda: Stray Kids ส่งคลิปทักทาย มาพร้อม...</td>\n",
       "      <td>ℓαzу єƒ 🐈‍⬛</td>\n",
       "      <td>224510</td>\n",
       "      <td>451</td>\n",
       "      <td></td>\n",
       "      <td>False</td>\n",
       "      <td>0</td>\n",
       "      <td>215</td>\n",
       "      <td>2021-12-01 02:15:05</td>\n",
       "      <td>RT Stray Kids Christmas EveL</td>\n",
       "    </tr>\n",
       "  </tbody>\n",
       "</table>\n",
       "</div>"
      ],
      "text/plain": [
       "                                              Tweets  ...                                        clean_tweet\n",
       "0  Christmas film na gang ngayun d ko pinagsasawa...  ...  Christmas film na gang ngayun d ko pinagsasawa...\n",
       "1  RT @JoeBiden: There’s still time to get your f...  ...  RT There s still time to get your first shot y...\n",
       "2  RT @OnnyReview: โอ้โหหห Christmas กลางเมืองที่...  ...                                       RT Christmas\n",
       "3  2021 Christmas tree lightings, parades around ...  ...  2021 Christmas tree lightings parades around C...\n",
       "4  RT @sudsapda: Stray Kids ส่งคลิปทักทาย มาพร้อม...  ...                       RT Stray Kids Christmas EveL\n",
       "\n",
       "[5 rows x 10 columns]"
      ]
     },
     "execution_count": 11,
     "metadata": {},
     "output_type": "execute_result"
    }
   ],
   "source": [
    "df.head()"
   ]
  },
  {
   "cell_type": "code",
   "execution_count": 12,
   "id": "27427b39",
   "metadata": {
    "colab": {
     "base_uri": "https://localhost:8080/",
     "height": 556
    },
    "id": "27427b39",
    "outputId": "1a4d51a5-3a74-4779-85e0-9eb8ac82236b"
   },
   "outputs": [
    {
     "data": {
      "text/html": [
       "<div>\n",
       "<style scoped>\n",
       "    .dataframe tbody tr th:only-of-type {\n",
       "        vertical-align: middle;\n",
       "    }\n",
       "\n",
       "    .dataframe tbody tr th {\n",
       "        vertical-align: top;\n",
       "    }\n",
       "\n",
       "    .dataframe thead th {\n",
       "        text-align: right;\n",
       "    }\n",
       "</style>\n",
       "<table border=\"1\" class=\"dataframe\">\n",
       "  <thead>\n",
       "    <tr style=\"text-align: right;\">\n",
       "      <th></th>\n",
       "      <th>Tweets</th>\n",
       "      <th>User</th>\n",
       "      <th>User_statuses_count</th>\n",
       "      <th>user_followers</th>\n",
       "      <th>User_location</th>\n",
       "      <th>User_verified</th>\n",
       "      <th>like_count</th>\n",
       "      <th>retweet_count</th>\n",
       "      <th>tweet_date</th>\n",
       "      <th>clean_tweet</th>\n",
       "      <th>Sentiment</th>\n",
       "    </tr>\n",
       "  </thead>\n",
       "  <tbody>\n",
       "    <tr>\n",
       "      <th>0</th>\n",
       "      <td>Christmas film na gang ngayun d ko pinagsasawa...</td>\n",
       "      <td>CARLOKANTUTERO</td>\n",
       "      <td>324</td>\n",
       "      <td>57216</td>\n",
       "      <td>Rizal, Calabarzon</td>\n",
       "      <td>False</td>\n",
       "      <td>0</td>\n",
       "      <td>0</td>\n",
       "      <td>2021-12-01 02:15:05</td>\n",
       "      <td>Christmas film na gang ngayun d ko pinagsasawa...</td>\n",
       "      <td>Neutral</td>\n",
       "    </tr>\n",
       "    <tr>\n",
       "      <th>1</th>\n",
       "      <td>RT @JoeBiden: There’s still time to get your f...</td>\n",
       "      <td>Elaine Perliss</td>\n",
       "      <td>2046</td>\n",
       "      <td>94</td>\n",
       "      <td>Sherman Oaks, Tarzana, CA</td>\n",
       "      <td>False</td>\n",
       "      <td>0</td>\n",
       "      <td>2449</td>\n",
       "      <td>2021-12-01 02:15:05</td>\n",
       "      <td>RT There s still time to get your first shot y...</td>\n",
       "      <td>Positive</td>\n",
       "    </tr>\n",
       "    <tr>\n",
       "      <th>2</th>\n",
       "      <td>RT @OnnyReview: โอ้โหหห Christmas กลางเมืองที่...</td>\n",
       "      <td>𝒻</td>\n",
       "      <td>51902</td>\n",
       "      <td>89</td>\n",
       "      <td></td>\n",
       "      <td>False</td>\n",
       "      <td>0</td>\n",
       "      <td>23269</td>\n",
       "      <td>2021-12-01 02:15:05</td>\n",
       "      <td>RT Christmas</td>\n",
       "      <td>Neutral</td>\n",
       "    </tr>\n",
       "    <tr>\n",
       "      <th>3</th>\n",
       "      <td>2021 Christmas tree lightings, parades around ...</td>\n",
       "      <td>ABC 36 News</td>\n",
       "      <td>78638</td>\n",
       "      <td>28710</td>\n",
       "      <td>Lexington, KY</td>\n",
       "      <td>True</td>\n",
       "      <td>0</td>\n",
       "      <td>0</td>\n",
       "      <td>2021-12-01 02:15:05</td>\n",
       "      <td>2021 Christmas tree lightings parades around C...</td>\n",
       "      <td>Neutral</td>\n",
       "    </tr>\n",
       "    <tr>\n",
       "      <th>4</th>\n",
       "      <td>RT @sudsapda: Stray Kids ส่งคลิปทักทาย มาพร้อม...</td>\n",
       "      <td>ℓαzу єƒ 🐈‍⬛</td>\n",
       "      <td>224510</td>\n",
       "      <td>451</td>\n",
       "      <td></td>\n",
       "      <td>False</td>\n",
       "      <td>0</td>\n",
       "      <td>215</td>\n",
       "      <td>2021-12-01 02:15:05</td>\n",
       "      <td>RT Stray Kids Christmas EveL</td>\n",
       "      <td>Neutral</td>\n",
       "    </tr>\n",
       "  </tbody>\n",
       "</table>\n",
       "</div>"
      ],
      "text/plain": [
       "                                              Tweets  ... Sentiment\n",
       "0  Christmas film na gang ngayun d ko pinagsasawa...  ...   Neutral\n",
       "1  RT @JoeBiden: There’s still time to get your f...  ...  Positive\n",
       "2  RT @OnnyReview: โอ้โหหห Christmas กลางเมืองที่...  ...   Neutral\n",
       "3  2021 Christmas tree lightings, parades around ...  ...   Neutral\n",
       "4  RT @sudsapda: Stray Kids ส่งคลิปทักทาย มาพร้อม...  ...   Neutral\n",
       "\n",
       "[5 rows x 11 columns]"
      ]
     },
     "execution_count": 12,
     "metadata": {},
     "output_type": "execute_result"
    }
   ],
   "source": [
    "df['Sentiment'] = df['clean_tweet'].apply(lambda x : analyze_sentiment(x) )\n",
    "df.head()"
   ]
  },
  {
   "cell_type": "code",
   "execution_count": 13,
   "id": "I_MpaUlq7ZmR",
   "metadata": {
    "colab": {
     "base_uri": "https://localhost:8080/",
     "height": 556
    },
    "id": "I_MpaUlq7ZmR",
    "outputId": "ff3f1b9b-4b23-4ce8-edb4-d441dec120a1"
   },
   "outputs": [
    {
     "data": {
      "text/html": [
       "<div>\n",
       "<style scoped>\n",
       "    .dataframe tbody tr th:only-of-type {\n",
       "        vertical-align: middle;\n",
       "    }\n",
       "\n",
       "    .dataframe tbody tr th {\n",
       "        vertical-align: top;\n",
       "    }\n",
       "\n",
       "    .dataframe thead th {\n",
       "        text-align: right;\n",
       "    }\n",
       "</style>\n",
       "<table border=\"1\" class=\"dataframe\">\n",
       "  <thead>\n",
       "    <tr style=\"text-align: right;\">\n",
       "      <th></th>\n",
       "      <th>Tweets</th>\n",
       "      <th>User</th>\n",
       "      <th>User_statuses_count</th>\n",
       "      <th>user_followers</th>\n",
       "      <th>User_location</th>\n",
       "      <th>User_verified</th>\n",
       "      <th>like_count</th>\n",
       "      <th>retweet_count</th>\n",
       "      <th>tweet_date</th>\n",
       "      <th>clean_tweet</th>\n",
       "      <th>Sentiment</th>\n",
       "    </tr>\n",
       "  </thead>\n",
       "  <tbody>\n",
       "    <tr>\n",
       "      <th>0</th>\n",
       "      <td>Christmas film na gang ngayun d ko pinagsasawa...</td>\n",
       "      <td>CARLOKANTUTERO</td>\n",
       "      <td>324</td>\n",
       "      <td>57216</td>\n",
       "      <td>Rizal, Calabarzon</td>\n",
       "      <td>False</td>\n",
       "      <td>0</td>\n",
       "      <td>0</td>\n",
       "      <td>2021-12-01 02:15:05</td>\n",
       "      <td>Christmas film na gang ngayun d ko pinagsasawa...</td>\n",
       "      <td>Neutral</td>\n",
       "    </tr>\n",
       "    <tr>\n",
       "      <th>1</th>\n",
       "      <td>RT @JoeBiden: There’s still time to get your f...</td>\n",
       "      <td>Elaine Perliss</td>\n",
       "      <td>2046</td>\n",
       "      <td>94</td>\n",
       "      <td>Sherman Oaks, Tarzana, CA</td>\n",
       "      <td>False</td>\n",
       "      <td>0</td>\n",
       "      <td>2449</td>\n",
       "      <td>2021-12-01 02:15:05</td>\n",
       "      <td>RT There s still time to get your first shot y...</td>\n",
       "      <td>Positive</td>\n",
       "    </tr>\n",
       "    <tr>\n",
       "      <th>2</th>\n",
       "      <td>RT @OnnyReview: โอ้โหหห Christmas กลางเมืองที่...</td>\n",
       "      <td>𝒻</td>\n",
       "      <td>51902</td>\n",
       "      <td>89</td>\n",
       "      <td></td>\n",
       "      <td>False</td>\n",
       "      <td>0</td>\n",
       "      <td>23269</td>\n",
       "      <td>2021-12-01 02:15:05</td>\n",
       "      <td>RT Christmas</td>\n",
       "      <td>Neutral</td>\n",
       "    </tr>\n",
       "    <tr>\n",
       "      <th>3</th>\n",
       "      <td>2021 Christmas tree lightings, parades around ...</td>\n",
       "      <td>ABC 36 News</td>\n",
       "      <td>78638</td>\n",
       "      <td>28710</td>\n",
       "      <td>Lexington, KY</td>\n",
       "      <td>True</td>\n",
       "      <td>0</td>\n",
       "      <td>0</td>\n",
       "      <td>2021-12-01 02:15:05</td>\n",
       "      <td>2021 Christmas tree lightings parades around C...</td>\n",
       "      <td>Neutral</td>\n",
       "    </tr>\n",
       "    <tr>\n",
       "      <th>4</th>\n",
       "      <td>RT @sudsapda: Stray Kids ส่งคลิปทักทาย มาพร้อม...</td>\n",
       "      <td>ℓαzу єƒ 🐈‍⬛</td>\n",
       "      <td>224510</td>\n",
       "      <td>451</td>\n",
       "      <td></td>\n",
       "      <td>False</td>\n",
       "      <td>0</td>\n",
       "      <td>215</td>\n",
       "      <td>2021-12-01 02:15:05</td>\n",
       "      <td>RT Stray Kids Christmas EveL</td>\n",
       "      <td>Neutral</td>\n",
       "    </tr>\n",
       "  </tbody>\n",
       "</table>\n",
       "</div>"
      ],
      "text/plain": [
       "                                              Tweets  ... Sentiment\n",
       "0  Christmas film na gang ngayun d ko pinagsasawa...  ...   Neutral\n",
       "1  RT @JoeBiden: There’s still time to get your f...  ...  Positive\n",
       "2  RT @OnnyReview: โอ้โหหห Christmas กลางเมืองที่...  ...   Neutral\n",
       "3  2021 Christmas tree lightings, parades around ...  ...   Neutral\n",
       "4  RT @sudsapda: Stray Kids ส่งคลิปทักทาย มาพร้อม...  ...   Neutral\n",
       "\n",
       "[5 rows x 11 columns]"
      ]
     },
     "execution_count": 13,
     "metadata": {},
     "output_type": "execute_result"
    }
   ],
   "source": [
    "df.head()"
   ]
  },
  {
   "cell_type": "code",
   "execution_count": 14,
   "id": "7wWFPpcz_kjF",
   "metadata": {
    "colab": {
     "base_uri": "https://localhost:8080/",
     "height": 487
    },
    "id": "7wWFPpcz_kjF",
    "outputId": "58f17641-7991-4bfb-e052-80f6ddf9ce37"
   },
   "outputs": [
    {
     "data": {
      "text/html": [
       "<div>\n",
       "<style scoped>\n",
       "    .dataframe tbody tr th:only-of-type {\n",
       "        vertical-align: middle;\n",
       "    }\n",
       "\n",
       "    .dataframe tbody tr th {\n",
       "        vertical-align: top;\n",
       "    }\n",
       "\n",
       "    .dataframe thead th {\n",
       "        text-align: right;\n",
       "    }\n",
       "</style>\n",
       "<table border=\"1\" class=\"dataframe\">\n",
       "  <thead>\n",
       "    <tr style=\"text-align: right;\">\n",
       "      <th></th>\n",
       "      <th>Tweets</th>\n",
       "      <th>User</th>\n",
       "      <th>User_statuses_count</th>\n",
       "      <th>user_followers</th>\n",
       "      <th>User_location</th>\n",
       "      <th>User_verified</th>\n",
       "      <th>like_count</th>\n",
       "      <th>retweet_count</th>\n",
       "      <th>tweet_date</th>\n",
       "      <th>clean_tweet</th>\n",
       "      <th>Sentiment</th>\n",
       "    </tr>\n",
       "  </thead>\n",
       "  <tbody>\n",
       "    <tr>\n",
       "      <th>0</th>\n",
       "      <td>Christmas film na gang ngayun d ko pinagsasawa...</td>\n",
       "      <td>CARLOKANTUTERO</td>\n",
       "      <td>324</td>\n",
       "      <td>57216</td>\n",
       "      <td>Rizal, Calabarzon</td>\n",
       "      <td>False</td>\n",
       "      <td>0</td>\n",
       "      <td>0</td>\n",
       "      <td>2021-12-01 02:15:05</td>\n",
       "      <td>Christmas film na gang ngayun d ko pinagsasawa...</td>\n",
       "      <td>Neutral</td>\n",
       "    </tr>\n",
       "    <tr>\n",
       "      <th>1</th>\n",
       "      <td>RT @JoeBiden: Theres still time to get your fi...</td>\n",
       "      <td>Elaine Perliss</td>\n",
       "      <td>2046</td>\n",
       "      <td>94</td>\n",
       "      <td>Sherman Oaks, Tarzana, CA</td>\n",
       "      <td>False</td>\n",
       "      <td>0</td>\n",
       "      <td>2449</td>\n",
       "      <td>2021-12-01 02:15:05</td>\n",
       "      <td>RT There s still time to get your first shot y...</td>\n",
       "      <td>Positive</td>\n",
       "    </tr>\n",
       "    <tr>\n",
       "      <th>2</th>\n",
       "      <td>RT @OnnyReview:  Christmas   https://t.co/TMxd...</td>\n",
       "      <td></td>\n",
       "      <td>51902</td>\n",
       "      <td>89</td>\n",
       "      <td></td>\n",
       "      <td>False</td>\n",
       "      <td>0</td>\n",
       "      <td>23269</td>\n",
       "      <td>2021-12-01 02:15:05</td>\n",
       "      <td>RT Christmas</td>\n",
       "      <td>Neutral</td>\n",
       "    </tr>\n",
       "    <tr>\n",
       "      <th>3</th>\n",
       "      <td>2021 Christmas tree lightings, parades around ...</td>\n",
       "      <td>ABC 36 News</td>\n",
       "      <td>78638</td>\n",
       "      <td>28710</td>\n",
       "      <td>Lexington, KY</td>\n",
       "      <td>True</td>\n",
       "      <td>0</td>\n",
       "      <td>0</td>\n",
       "      <td>2021-12-01 02:15:05</td>\n",
       "      <td>2021 Christmas tree lightings parades around C...</td>\n",
       "      <td>Neutral</td>\n",
       "    </tr>\n",
       "    <tr>\n",
       "      <th>4</th>\n",
       "      <td>RT @sudsapda: Stray Kids     Christmas EveL</td>\n",
       "      <td>z</td>\n",
       "      <td>224510</td>\n",
       "      <td>451</td>\n",
       "      <td></td>\n",
       "      <td>False</td>\n",
       "      <td>0</td>\n",
       "      <td>215</td>\n",
       "      <td>2021-12-01 02:15:05</td>\n",
       "      <td>RT Stray Kids Christmas EveL</td>\n",
       "      <td>Neutral</td>\n",
       "    </tr>\n",
       "  </tbody>\n",
       "</table>\n",
       "</div>"
      ],
      "text/plain": [
       "                                              Tweets  ... Sentiment\n",
       "0  Christmas film na gang ngayun d ko pinagsasawa...  ...   Neutral\n",
       "1  RT @JoeBiden: Theres still time to get your fi...  ...  Positive\n",
       "2  RT @OnnyReview:  Christmas   https://t.co/TMxd...  ...   Neutral\n",
       "3  2021 Christmas tree lightings, parades around ...  ...   Neutral\n",
       "4       RT @sudsapda: Stray Kids     Christmas EveL   ...   Neutral\n",
       "\n",
       "[5 rows x 11 columns]"
      ]
     },
     "execution_count": 14,
     "metadata": {},
     "output_type": "execute_result"
    }
   ],
   "source": [
    "df = df.astype(str).apply(lambda x: x.str.encode('ascii', 'ignore').str.decode('ascii'))\n",
    "df.head()"
   ]
  },
  {
   "cell_type": "code",
   "execution_count": 15,
   "id": "UAp1o-AP66IT",
   "metadata": {
    "id": "UAp1o-AP66IT"
   },
   "outputs": [],
   "source": [
    "le = LabelEncoder()\n",
    "df['Sentiment'] = le.fit_transform(df['Sentiment'])"
   ]
  },
  {
   "cell_type": "code",
   "execution_count": 16,
   "id": "hNKAZRhH8E1z",
   "metadata": {
    "colab": {
     "base_uri": "https://localhost:8080/",
     "height": 487
    },
    "id": "hNKAZRhH8E1z",
    "outputId": "535698e6-c2ad-42c2-9bf5-09d9232b1739"
   },
   "outputs": [
    {
     "data": {
      "text/html": [
       "<div>\n",
       "<style scoped>\n",
       "    .dataframe tbody tr th:only-of-type {\n",
       "        vertical-align: middle;\n",
       "    }\n",
       "\n",
       "    .dataframe tbody tr th {\n",
       "        vertical-align: top;\n",
       "    }\n",
       "\n",
       "    .dataframe thead th {\n",
       "        text-align: right;\n",
       "    }\n",
       "</style>\n",
       "<table border=\"1\" class=\"dataframe\">\n",
       "  <thead>\n",
       "    <tr style=\"text-align: right;\">\n",
       "      <th></th>\n",
       "      <th>Tweets</th>\n",
       "      <th>User</th>\n",
       "      <th>User_statuses_count</th>\n",
       "      <th>user_followers</th>\n",
       "      <th>User_location</th>\n",
       "      <th>User_verified</th>\n",
       "      <th>like_count</th>\n",
       "      <th>retweet_count</th>\n",
       "      <th>tweet_date</th>\n",
       "      <th>clean_tweet</th>\n",
       "      <th>Sentiment</th>\n",
       "    </tr>\n",
       "  </thead>\n",
       "  <tbody>\n",
       "    <tr>\n",
       "      <th>0</th>\n",
       "      <td>Christmas film na gang ngayun d ko pinagsasawa...</td>\n",
       "      <td>CARLOKANTUTERO</td>\n",
       "      <td>324</td>\n",
       "      <td>57216</td>\n",
       "      <td>Rizal, Calabarzon</td>\n",
       "      <td>False</td>\n",
       "      <td>0</td>\n",
       "      <td>0</td>\n",
       "      <td>2021-12-01 02:15:05</td>\n",
       "      <td>Christmas film na gang ngayun d ko pinagsasawa...</td>\n",
       "      <td>1</td>\n",
       "    </tr>\n",
       "    <tr>\n",
       "      <th>1</th>\n",
       "      <td>RT @JoeBiden: Theres still time to get your fi...</td>\n",
       "      <td>Elaine Perliss</td>\n",
       "      <td>2046</td>\n",
       "      <td>94</td>\n",
       "      <td>Sherman Oaks, Tarzana, CA</td>\n",
       "      <td>False</td>\n",
       "      <td>0</td>\n",
       "      <td>2449</td>\n",
       "      <td>2021-12-01 02:15:05</td>\n",
       "      <td>RT There s still time to get your first shot y...</td>\n",
       "      <td>2</td>\n",
       "    </tr>\n",
       "    <tr>\n",
       "      <th>2</th>\n",
       "      <td>RT @OnnyReview:  Christmas   https://t.co/TMxd...</td>\n",
       "      <td></td>\n",
       "      <td>51902</td>\n",
       "      <td>89</td>\n",
       "      <td></td>\n",
       "      <td>False</td>\n",
       "      <td>0</td>\n",
       "      <td>23269</td>\n",
       "      <td>2021-12-01 02:15:05</td>\n",
       "      <td>RT Christmas</td>\n",
       "      <td>1</td>\n",
       "    </tr>\n",
       "    <tr>\n",
       "      <th>3</th>\n",
       "      <td>2021 Christmas tree lightings, parades around ...</td>\n",
       "      <td>ABC 36 News</td>\n",
       "      <td>78638</td>\n",
       "      <td>28710</td>\n",
       "      <td>Lexington, KY</td>\n",
       "      <td>True</td>\n",
       "      <td>0</td>\n",
       "      <td>0</td>\n",
       "      <td>2021-12-01 02:15:05</td>\n",
       "      <td>2021 Christmas tree lightings parades around C...</td>\n",
       "      <td>1</td>\n",
       "    </tr>\n",
       "    <tr>\n",
       "      <th>4</th>\n",
       "      <td>RT @sudsapda: Stray Kids     Christmas EveL</td>\n",
       "      <td>z</td>\n",
       "      <td>224510</td>\n",
       "      <td>451</td>\n",
       "      <td></td>\n",
       "      <td>False</td>\n",
       "      <td>0</td>\n",
       "      <td>215</td>\n",
       "      <td>2021-12-01 02:15:05</td>\n",
       "      <td>RT Stray Kids Christmas EveL</td>\n",
       "      <td>1</td>\n",
       "    </tr>\n",
       "  </tbody>\n",
       "</table>\n",
       "</div>"
      ],
      "text/plain": [
       "                                              Tweets  ... Sentiment\n",
       "0  Christmas film na gang ngayun d ko pinagsasawa...  ...         1\n",
       "1  RT @JoeBiden: Theres still time to get your fi...  ...         2\n",
       "2  RT @OnnyReview:  Christmas   https://t.co/TMxd...  ...         1\n",
       "3  2021 Christmas tree lightings, parades around ...  ...         1\n",
       "4       RT @sudsapda: Stray Kids     Christmas EveL   ...         1\n",
       "\n",
       "[5 rows x 11 columns]"
      ]
     },
     "execution_count": 16,
     "metadata": {},
     "output_type": "execute_result"
    }
   ],
   "source": [
    "df.head()"
   ]
  },
  {
   "cell_type": "code",
   "execution_count": 17,
   "id": "3u_4YPLA8I0V",
   "metadata": {
    "id": "3u_4YPLA8I0V"
   },
   "outputs": [],
   "source": [
    "X_train, X_test, y_train, y_test = train_test_split(df['Tweets'].values,df['Sentiment'].values,test_size=0.3)"
   ]
  },
  {
   "cell_type": "code",
   "execution_count": 18,
   "id": "7efb9eb9",
   "metadata": {
    "id": "7efb9eb9"
   },
   "outputs": [],
   "source": [
    "base = 'distilbert-base-uncased'"
   ]
  },
  {
   "cell_type": "code",
   "execution_count": 19,
   "id": "qJ5abIi-5-ii",
   "metadata": {
    "colab": {
     "base_uri": "https://localhost:8080/"
    },
    "id": "qJ5abIi-5-ii",
    "outputId": "b8a49fb6-1ff2-4788-b416-d1d42755cfbf"
   },
   "outputs": [
    {
     "name": "stderr",
     "output_type": "stream",
     "text": [
      "Some layers from the model checkpoint at distilbert-base-uncased were not used when initializing TFDistilBertForSequenceClassification: ['activation_13', 'vocab_projector', 'vocab_layer_norm', 'vocab_transform']\n",
      "- This IS expected if you are initializing TFDistilBertForSequenceClassification from the checkpoint of a model trained on another task or with another architecture (e.g. initializing a BertForSequenceClassification model from a BertForPreTraining model).\n",
      "- This IS NOT expected if you are initializing TFDistilBertForSequenceClassification from the checkpoint of a model that you expect to be exactly identical (initializing a BertForSequenceClassification model from a BertForSequenceClassification model).\n",
      "Some layers of TFDistilBertForSequenceClassification were not initialized from the model checkpoint at distilbert-base-uncased and are newly initialized: ['pre_classifier', 'classifier', 'dropout_19']\n",
      "You should probably TRAIN this model on a down-stream task to be able to use it for predictions and inference.\n"
     ]
    }
   ],
   "source": [
    "tokenizer = DistilBertTokenizer.from_pretrained(base)\n",
    "model = TFDistilBertForSequenceClassification.from_pretrained(base)\n",
    "optimizer = Adam(learning_rate=0.01)\n",
    "model.compile(optimizer=optimizer,loss='mse', metrics=['accuracy'])"
   ]
  },
  {
   "cell_type": "code",
   "execution_count": 20,
   "id": "YqYWwf-i8u0w",
   "metadata": {
    "id": "YqYWwf-i8u0w"
   },
   "outputs": [],
   "source": [
    "def batch_encode(X, tokenizer):\n",
    "  return tokenizer.batch_encode_plus(\n",
    "      X,\n",
    "      max_length = 64,\n",
    "      add_special_tokens = True,\n",
    "      return_attention_mask = True,\n",
    "      pad_to_max_length = True,\n",
    "      return_tensors = 'tf',\n",
    "  )"
   ]
  },
  {
   "cell_type": "code",
   "execution_count": 21,
   "id": "IK7b2CMY8boU",
   "metadata": {
    "colab": {
     "base_uri": "https://localhost:8080/"
    },
    "id": "IK7b2CMY8boU",
    "outputId": "fa3d14b3-10b2-4f0d-8d7f-674bcd451718"
   },
   "outputs": [
    {
     "name": "stderr",
     "output_type": "stream",
     "text": [
      "Truncation was not explicitly activated but `max_length` is provided a specific value, please use `truncation=True` to explicitly truncate examples to max length. Defaulting to 'longest_first' truncation strategy. If you encode pairs of sequences (GLUE-style) with the tokenizer you can select this strategy more precisely by providing a specific strategy to `truncation`.\n",
      "/usr/local/lib/python3.7/dist-packages/transformers/tokenization_utils_base.py:2218: FutureWarning: The `pad_to_max_length` argument is deprecated and will be removed in a future version, use `padding=True` or `padding='longest'` to pad to the longest sequence in the batch, or use `padding='max_length'` to pad to a max length. In this case, you can give a specific length with `max_length` (e.g. `max_length=45`) or leave max_length to None to pad to the maximal input size of the model (e.g. 512 for Bert).\n",
      "  FutureWarning,\n"
     ]
    }
   ],
   "source": [
    "X_train = batch_encode(X_train,tokenizer)\n",
    "X_test = batch_encode(X_test,tokenizer)"
   ]
  },
  {
   "cell_type": "code",
   "execution_count": 22,
   "id": "mAe63HtvRiZ4",
   "metadata": {
    "colab": {
     "base_uri": "https://localhost:8080/"
    },
    "id": "mAe63HtvRiZ4",
    "outputId": "88b5371a-2c9f-4701-d26f-7d8bba52018c"
   },
   "outputs": [
    {
     "data": {
      "text/plain": [
       "{'input_ids': <tf.Tensor: shape=(700, 64), dtype=int32, numpy=\n",
       "array([[  101,  1045,  5621, ...,     0,     0,     0],\n",
       "       [  101, 19387,  1030, ...,     0,     0,     0],\n",
       "       [  101, 19387,  1030, ...,     0,     0,     0],\n",
       "       ...,\n",
       "       [  101, 19387,  1030, ...,     0,     0,     0],\n",
       "       [  101,  2138,  1045, ...,     0,     0,     0],\n",
       "       [  101, 19387,  1030, ...,     0,     0,     0]], dtype=int32)>, 'attention_mask': <tf.Tensor: shape=(700, 64), dtype=int32, numpy=\n",
       "array([[1, 1, 1, ..., 0, 0, 0],\n",
       "       [1, 1, 1, ..., 0, 0, 0],\n",
       "       [1, 1, 1, ..., 0, 0, 0],\n",
       "       ...,\n",
       "       [1, 1, 1, ..., 0, 0, 0],\n",
       "       [1, 1, 1, ..., 0, 0, 0],\n",
       "       [1, 1, 1, ..., 0, 0, 0]], dtype=int32)>}"
      ]
     },
     "execution_count": 22,
     "metadata": {},
     "output_type": "execute_result"
    }
   ],
   "source": [
    "X_train"
   ]
  },
  {
   "cell_type": "code",
   "execution_count": 23,
   "id": "_jZ0RYArOcpy",
   "metadata": {
    "id": "_jZ0RYArOcpy"
   },
   "outputs": [],
   "source": [
    "y_train = y_train.reshape(y_train.shape[0], -1)\n",
    "y_train = y_train.astype(int)\n",
    "y_train = np.c_[y_train, 1 - y_train]\n",
    "y_test = y_test.reshape(y_test.shape[0], -1)\n",
    "y_test = y_test.astype(int)\n",
    "y_test = np.c_[y_test, 1 - y_test]"
   ]
  },
  {
   "cell_type": "code",
   "execution_count": 24,
   "id": "Zy_V3p6p-Aea",
   "metadata": {
    "colab": {
     "base_uri": "https://localhost:8080/"
    },
    "id": "Zy_V3p6p-Aea",
    "outputId": "3369a7f1-3fd6-4ebc-89f9-390c94805b05"
   },
   "outputs": [
    {
     "name": "stdout",
     "output_type": "stream",
     "text": [
      "Epoch 1/20\n",
      "22/22 [==============================] - 26s 552ms/step - loss: 2.3889 - accuracy: 0.6714 - val_loss: 0.4173 - val_accuracy: 0.8133\n",
      "Epoch 2/20\n",
      "22/22 [==============================] - 10s 448ms/step - loss: 0.5016 - accuracy: 0.8214 - val_loss: 0.3856 - val_accuracy: 0.8133\n",
      "Epoch 3/20\n",
      "22/22 [==============================] - 10s 445ms/step - loss: 0.5021 - accuracy: 0.8214 - val_loss: 0.3870 - val_accuracy: 0.8133\n",
      "Epoch 4/20\n",
      "22/22 [==============================] - 10s 449ms/step - loss: 0.5054 - accuracy: 0.8214 - val_loss: 0.3810 - val_accuracy: 0.8133\n",
      "Epoch 5/20\n",
      "22/22 [==============================] - 10s 448ms/step - loss: 0.4974 - accuracy: 0.8214 - val_loss: 0.3765 - val_accuracy: 0.8133\n",
      "Epoch 6/20\n",
      "22/22 [==============================] - 10s 448ms/step - loss: 0.5120 - accuracy: 0.8214 - val_loss: 0.4624 - val_accuracy: 0.8133\n",
      "Epoch 7/20\n",
      "22/22 [==============================] - 10s 449ms/step - loss: 0.4945 - accuracy: 0.8214 - val_loss: 0.3935 - val_accuracy: 0.8133\n",
      "Epoch 8/20\n",
      "22/22 [==============================] - 10s 450ms/step - loss: 0.4934 - accuracy: 0.8214 - val_loss: 0.4268 - val_accuracy: 0.8133\n",
      "Epoch 9/20\n",
      "22/22 [==============================] - 10s 449ms/step - loss: 0.5107 - accuracy: 0.8214 - val_loss: 0.3867 - val_accuracy: 0.8133\n",
      "Epoch 10/20\n",
      "22/22 [==============================] - 10s 449ms/step - loss: 0.5020 - accuracy: 0.8214 - val_loss: 0.3967 - val_accuracy: 0.8133\n",
      "Epoch 11/20\n",
      "22/22 [==============================] - 10s 450ms/step - loss: 0.5040 - accuracy: 0.8214 - val_loss: 0.3849 - val_accuracy: 0.8133\n",
      "Epoch 12/20\n",
      "22/22 [==============================] - 10s 451ms/step - loss: 0.4882 - accuracy: 0.8214 - val_loss: 0.4730 - val_accuracy: 0.8133\n",
      "Epoch 13/20\n",
      "22/22 [==============================] - 10s 449ms/step - loss: 0.5102 - accuracy: 0.8214 - val_loss: 0.3889 - val_accuracy: 0.8133\n",
      "Epoch 14/20\n",
      "22/22 [==============================] - 10s 450ms/step - loss: 0.5020 - accuracy: 0.8214 - val_loss: 0.4012 - val_accuracy: 0.8133\n",
      "Epoch 15/20\n",
      "22/22 [==============================] - 10s 449ms/step - loss: 0.4865 - accuracy: 0.8214 - val_loss: 0.3818 - val_accuracy: 0.8133\n",
      "Epoch 16/20\n",
      "22/22 [==============================] - 10s 450ms/step - loss: 0.4950 - accuracy: 0.8214 - val_loss: 0.4050 - val_accuracy: 0.8133\n",
      "Epoch 17/20\n",
      "22/22 [==============================] - 10s 450ms/step - loss: 0.4980 - accuracy: 0.8214 - val_loss: 0.4226 - val_accuracy: 0.8133\n",
      "Epoch 18/20\n",
      "22/22 [==============================] - 10s 449ms/step - loss: 0.5406 - accuracy: 0.8214 - val_loss: 0.3752 - val_accuracy: 0.8133\n",
      "Epoch 19/20\n",
      "22/22 [==============================] - 10s 449ms/step - loss: 0.5020 - accuracy: 0.8214 - val_loss: 0.3891 - val_accuracy: 0.8133\n",
      "Epoch 20/20\n",
      "22/22 [==============================] - 10s 450ms/step - loss: 0.4978 - accuracy: 0.8214 - val_loss: 0.3985 - val_accuracy: 0.8133\n"
     ]
    }
   ],
   "source": [
    "history = model.fit(\n",
    "\tx=X_train.values(),\n",
    "\ty=y_train,\n",
    "\tvalidation_data=(X_test.values(), y_test),\n",
    "\tepochs=20,\n",
    "\tbatch_size=32\n",
    ")"
   ]
  },
  {
   "cell_type": "code",
   "execution_count": 28,
   "id": "SpFkxCSIA6_Z",
   "metadata": {
    "colab": {
     "base_uri": "https://localhost:8080/",
     "height": 295
    },
    "id": "SpFkxCSIA6_Z",
    "outputId": "946e9a2c-2ac6-48df-b6b7-5d9b25614376"
   },
   "outputs": [
    {
     "data": {
      "image/png": "[encoded data removed]",
      "text/plain": [
       "<Figure size 432x288 with 1 Axes>"
      ]
     },
     "metadata": {
      "needs_background": "light"
     },
     "output_type": "display_data"
    }
   ],
   "source": [
    "loss_train = history.history['loss']\n",
    "\n",
    "epochs = range(20)\n",
    "plt.plot(epochs, loss_train, label='Training Loss')\n",
    "plt.title('Loss Vs Epochs')\n",
    "plt.xlabel('Epochs')\n",
    "plt.ylabel('Loss')\n",
    "plt.legend()\n",
    "plt.show()"
   ]
  },
  {
   "cell_type": "code",
   "execution_count": 29,
   "id": "YQyCVjlZfnDy",
   "metadata": {
    "colab": {
     "base_uri": "https://localhost:8080/",
     "height": 295
    },
    "id": "YQyCVjlZfnDy",
    "outputId": "dcac9367-de33-41a0-d5a3-5b98b7bc2392"
   },
   "outputs": [
    {
     "data": {
      "image/png": "[encoded data removed]",
      "text/plain": [
       "<Figure size 432x288 with 1 Axes>"
      ]
     },
     "metadata": {
      "needs_background": "light"
     },
     "output_type": "display_data"
    }
   ],
   "source": [
    "acc_train = history.history['accuracy']\n",
    "\n",
    "epochs = range(20)\n",
    "plt.plot(epochs, acc_train, label='Training Accuracy')\n",
    "plt.title('Accuracy Vs Epochs')\n",
    "plt.xlabel('Epochs')\n",
    "plt.ylabel('Accuracy')\n",
    "plt.legend()\n",
    "plt.show()"
   ]
  },
  {
   "cell_type": "code",
   "execution_count": null,
   "id": "d9i_OFKWzHwt",
   "metadata": {
    "id": "d9i_OFKWzHwt"
   },
   "outputs": [],
   "source": []
  }
 ],
 "metadata": {
  "accelerator": "GPU",
  "colab": {
   "collapsed_sections": [],
   "name": "Sentiment Analysis.ipynb",
   "provenance": []
  },
  "kernelspec": {
   "display_name": "Python 3 (ipykernel)",
   "language": "python",
   "name": "python3"
  },
  "language_info": {
   "codemirror_mode": {
    "name": "ipython",
    "version": 3
   },
   "file_extension": ".py",
   "mimetype": "text/x-python",
   "name": "python",
   "nbconvert_exporter": "python",
   "pygments_lexer": "ipython3",
   "version": "3.9.7"
  }
 },
 "nbformat": 4,
 "nbformat_minor": 5
}
